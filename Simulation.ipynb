{
  "nbformat": 4,
  "nbformat_minor": 0,
  "metadata": {
    "colab": {
      "provenance": [],
      "authorship_tag": "ABX9TyOUWdvkbwulZ39sLVIU24SC",
      "include_colab_link": true
    },
    "kernelspec": {
      "name": "python3",
      "display_name": "Python 3"
    },
    "language_info": {
      "name": "python"
    }
  },
  "cells": [
    {
      "cell_type": "markdown",
      "metadata": {
        "id": "view-in-github",
        "colab_type": "text"
      },
      "source": [
        "<a href=\"https://colab.research.google.com/github/EyosiyasE/EyosiyasE/blob/main/Simulation.ipynb\" target=\"_parent\"><img src=\"https://colab.research.google.com/assets/colab-badge.svg\" alt=\"Open In Colab\"/></a>"
      ]
    },
    {
      "cell_type": "code",
      "execution_count": null,
      "metadata": {
        "colab": {
          "base_uri": "https://localhost:8080/"
        },
        "id": "IvlxRWMvdqdC",
        "outputId": "33c6faf7-7027-4e57-c826-f3fca7d82454"
      },
      "outputs": [
        {
          "output_type": "stream",
          "name": "stdout",
          "text": [
            "\u001b[?25l     \u001b[90m━━━━━━━━━━━━━━━━━━━━━━━━━━━━━━━━━━━━━━━━\u001b[0m \u001b[32m0.0/55.6 kB\u001b[0m \u001b[31m?\u001b[0m eta \u001b[36m-:--:--\u001b[0m\r\u001b[2K     \u001b[90m━━━━━━━━━━━━━━━━━━━━━━━━━━━━━━━━━━━━━━━━\u001b[0m \u001b[32m55.6/55.6 kB\u001b[0m \u001b[31m2.6 MB/s\u001b[0m eta \u001b[36m0:00:00\u001b[0m\n",
            "\u001b[?25h  Preparing metadata (setup.py) ... \u001b[?25l\u001b[?25hdone\n",
            "\u001b[2K   \u001b[90m━━━━━━━━━━━━━━━━━━━━━━━━━━━━━━━━━━━━━━━━\u001b[0m \u001b[32m4.7/4.7 MB\u001b[0m \u001b[31m64.1 MB/s\u001b[0m eta \u001b[36m0:00:00\u001b[0m\n",
            "\u001b[2K   \u001b[90m━━━━━━━━━━━━━━━━━━━━━━━━━━━━━━━━━━━━━━━━\u001b[0m \u001b[32m51.9/51.9 kB\u001b[0m \u001b[31m4.2 MB/s\u001b[0m eta \u001b[36m0:00:00\u001b[0m\n",
            "\u001b[2K   \u001b[90m━━━━━━━━━━━━━━━━━━━━━━━━━━━━━━━━━━━━━━━━\u001b[0m \u001b[32m332.3/332.3 kB\u001b[0m \u001b[31m31.7 MB/s\u001b[0m eta \u001b[36m0:00:00\u001b[0m\n",
            "\u001b[2K   \u001b[90m━━━━━━━━━━━━━━━━━━━━━━━━━━━━━━━━━━━━━━━━\u001b[0m \u001b[32m119.9/119.9 kB\u001b[0m \u001b[31m12.7 MB/s\u001b[0m eta \u001b[36m0:00:00\u001b[0m\n",
            "\u001b[2K   \u001b[90m━━━━━━━━━━━━━━━━━━━━━━━━━━━━━━━━━━━━━━━━\u001b[0m \u001b[32m809.1/809.1 kB\u001b[0m \u001b[31m51.5 MB/s\u001b[0m eta \u001b[36m0:00:00\u001b[0m\n",
            "\u001b[2K   \u001b[90m━━━━━━━━━━━━━━━━━━━━━━━━━━━━━━━━━━━━━━━━\u001b[0m \u001b[32m60.1/60.1 kB\u001b[0m \u001b[31m5.6 MB/s\u001b[0m eta \u001b[36m0:00:00\u001b[0m\n",
            "\u001b[2K   \u001b[90m━━━━━━━━━━━━━━━━━━━━━━━━━━━━━━━━━━━━━━━━\u001b[0m \u001b[32m753.1/753.1 kB\u001b[0m \u001b[31m40.5 MB/s\u001b[0m eta \u001b[36m0:00:00\u001b[0m\n",
            "\u001b[?25h  Building wheel for bibtexparser (setup.py) ... \u001b[?25l\u001b[?25hdone\n"
          ]
        }
      ],
      "source": [
        "!pip install -q qiskit qiskit-nature==0.7.2 pyscf matplotlib pandas qiskit-aer\n",
        "!pip install -q pymatgen\n"
      ]
    },
    {
      "cell_type": "code",
      "source": [
        "!pip install -q pymatgen\n",
        "\n",
        "from pymatgen.core import Structure\n",
        "from pymatgen.symmetry.analyzer import SpacegroupAnalyzer\n",
        "\n",
        "fe_structure = Structure.from_file(\"/content/FePO4.cif\")\n",
        "li_structure = Structure.from_file(\"/content/LiFePO4.cif\")\n",
        "\n",
        "\n",
        "li_sites = [site for site in li_structure if site.specie.symbol == \"Li\"]\n",
        "li_frac_coords = li_sites[0].frac_coords  # fractional coords of first Li site\n",
        "\n",
        "\n",
        "mgfe_structure = fe_structure.copy()\n",
        "mgfe_structure.insert(len(mgfe_structure), \"Mg\", li_frac_coords)\n",
        "\n",
        "\n",
        "output_file = \"/content/MgFePO4.cif\"\n",
        "mgfe_structure.to(filename=output_file)\n",
        "\n",
        "\n",
        "spa = SpacegroupAnalyzer(mgfe_structure)\n",
        "print(\"Saved as:\", output_file)\n",
        "print(\"Composition:\", mgfe_structure.composition)\n",
        "print(\"Space group:\", spa.get_space_group_symbol(), spa.get_space_group_number())\n"
      ],
      "metadata": {
        "colab": {
          "base_uri": "https://localhost:8080/"
        },
        "collapsed": true,
        "id": "8MJp9y7Yl7vO",
        "outputId": "2298dcc3-bd40-4644-8e82-6f486d422a25"
      },
      "execution_count": 3,
      "outputs": [
        {
          "output_type": "stream",
          "name": "stdout",
          "text": [
            "Saved as: /content/MgFePO4.cif\n",
            "Composition: Fe3+4 P5+4 O2-16 Mg1\n",
            "Space group: P-1 2\n"
          ]
        },
        {
          "output_type": "stream",
          "name": "stderr",
          "text": [
            "/usr/local/lib/python3.12/dist-packages/pymatgen/core/structure.py:2945: UserWarning: Site labels are not unique, which is not compliant with the CIF spec (https://www.iucr.org/__data/iucr/cifdic_html/1/cif_core.dic/Iatom_site_label.html):`['Fe0', 'Fe0', 'Fe0', 'Fe0', 'P1', 'P1', 'P1', 'P1', 'O2', 'O2', 'O2', 'O2', 'O2', 'O2', 'O2', 'O2', 'O3', 'O3', 'O3', 'O3', 'O4', 'O4', 'O4', 'O4', 'Mg24']`.\n",
            "  writer: Any = CifWriter(self, **kwargs)\n"
          ]
        }
      ]
    },
    {
      "cell_type": "code",
      "source": [
        "import os, math, numpy as np, pandas as pd, matplotlib.pyplot as plt\n",
        "os.makedirs(\"results\", exist_ok=True)\n",
        "\n",
        "from pymatgen.core import Structure\n",
        "from pymatgen.core import Molecule as PMGMolecule\n",
        "from qiskit_nature.second_q.drivers import PySCFDriver, Molecule\n",
        "from qiskit_nature.second_q.mappers import ParityMapper\n",
        "from qiskit_nature.second_q.transformers import ActiveSpaceTransformer\n",
        "from qiskit.algorithms.minimum_eigensolvers import VQE\n",
        "from qiskit.algorithms.optimizers import COBYLA\n",
        "from qiskit.primitives import Estimator\n",
        "from qiskit.circuit.library import TwoLocal\n",
        "\n",
        "\n",
        "# The .cif file represents periodic crystals that is infinite in all directions.\n",
        "# But since Qiskit Nature can only hold a finite number of atoms at once, the following function will cut out a small section\n",
        "\n",
        "def build_cluster_from_cif(cif_path, cation_symbol=None, fe_o_cut=2.5, p_o_cut=1.75):\n",
        "  s = Structure.from_file(cif_path)\n",
        "\n",
        "  fe_indices = [i for i, site in enumerate(s) if site.specie.symbol == \"Fe\"]\n",
        "  if not fe_indices:\n",
        "    raise ValueError(\"No Fe found in structure.\")\n",
        "  fe_site = s[fe_indices[0]] #This should locate the first Iron in the given .cif structure\n",
        "\n",
        "\n",
        "  #After finding the iron, which is the redox center, we move towards the oxygen link between Fe and P\n",
        "  fe_nbrs = s.get_neighbors(fe_site, r=fe_o_cut)\n",
        "  o_sites = [n.site for n in fe_nbrs if n.site.specie.symbol == \"O\"]\n",
        "  if len(o_sites) < 4:\n",
        "    raise ValueError(\"Not enough O neighbors found around Fe. Try increasing fe_o_cut.\")\n",
        "\n",
        "  #Then, we move to locate the nearby phosphate group\n",
        "  o_center = np.mean([o.coords for o in o_sites], axis=0) #Calculate the Geometric Center of Oxygen Neighbors\n",
        "  p_indices = [i for i, site in enumerate(s) if site.specie.symbol == \"P\"] #Identify all Phosphorus Atoms\n",
        "  if not p_indices:\n",
        "    raise ValueError(\"No P found in structure.\")\n",
        "  p_index = min(p_indices, key=lambda i: np.linalg.norm(s[i].coords - o_center)) # the minimum is the closest one\n",
        "  p_site = s[p_index]\n",
        "\n",
        "  #We move to the oxygen bonded to P atom to locate the phosphae\n",
        "  p_nbrs = s.get_neighbors(p_site, r=p_o_cut)\n",
        "  po4_o_sites = [n.site for n in p_nbrs if n.site.specie.symbol == \"O\"]\n",
        "  if len(po4_o_sites) < 3:\n",
        "    p_nbrs = s.get_neighbors(p_site, r=max(1.9, p_o_cut))\n",
        "    po4_o_sites = [n.site for n in p_nbrs if n.site.specie.symbol == \"O\"]\n",
        "\n",
        "  #Finally, this will locate the positive charge cation that sits close to the previously identified structrue and add it to the molecule cluster\n",
        "  cation_site = None\n",
        "  if cation_symbol:\n",
        "    cands = [site for site in s if site.specie.symbol == cation_symbol]\n",
        "    if cands:\n",
        "        ref = np.mean([o.coords for o in po4_o_sites], axis=0)\n",
        "        cation_site = min(cands, key=lambda site: np.linalg.norm(site.coords - ref))\n",
        "\n",
        "  # So far, the function was able to start from the redox center, Iron, and move towards the cloesest phospate ion and its surrounding cations\n",
        "  # This helps the Qiskit nature run the simulation with only a representative sample instead of the whole .cif file.\n",
        "\n",
        "  #This will then gather all the atoms we have gathered in the above codes.\n",
        "  atoms = []\n",
        "  seen = set()\n",
        "  def add(site):\n",
        "      key = (site.specie.symbol, *np.round(site.coords, 6))\n",
        "      if key not in seen:\n",
        "        atoms.append((site.specie.symbol, tuple(site.coords)))\n",
        "        seen.add(key)\n",
        "\n",
        "\n",
        "  add(fe_site)\n",
        "  for o in o_sites: add(o)\n",
        "  add(p_site)\n",
        "  for o in po4_o_sites: add(o)\n",
        "  if cation_site: add(cation_site)\n",
        "\n",
        "  return atoms # This will now have a list of the locations of each molecules, which I will then use in the next procedure\n",
        "\n",
        "\n",
        "\n",
        "\n",
        "\n",
        "\n",
        "\n"
      ],
      "metadata": {
        "id": "esWvLcK2dy8c"
      },
      "execution_count": null,
      "outputs": []
    }
  ]
}