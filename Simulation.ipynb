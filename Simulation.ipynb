{
  "nbformat": 4,
  "nbformat_minor": 0,
  "metadata": {
    "colab": {
      "provenance": [],
      "authorship_tag": "ABX9TyO6fPg4ixgAtl3C+5zyKFzZ",
      "include_colab_link": true
    },
    "kernelspec": {
      "name": "python3",
      "display_name": "Python 3"
    },
    "language_info": {
      "name": "python"
    }
  },
  "cells": [
    {
      "cell_type": "markdown",
      "metadata": {
        "id": "view-in-github",
        "colab_type": "text"
      },
      "source": [
        "<a href=\"https://colab.research.google.com/github/EyosiyasE/EyosiyasE/blob/main/Simulation.ipynb\" target=\"_parent\"><img src=\"https://colab.research.google.com/assets/colab-badge.svg\" alt=\"Open In Colab\"/></a>"
      ]
    },
    {
      "cell_type": "code",
      "execution_count": null,
      "metadata": {
        "colab": {
          "base_uri": "https://localhost:8080/"
        },
        "id": "IvlxRWMvdqdC",
        "outputId": "33c6faf7-7027-4e57-c826-f3fca7d82454"
      },
      "outputs": [
        {
          "output_type": "stream",
          "name": "stdout",
          "text": [
            "\u001b[?25l     \u001b[90m━━━━━━━━━━━━━━━━━━━━━━━━━━━━━━━━━━━━━━━━\u001b[0m \u001b[32m0.0/55.6 kB\u001b[0m \u001b[31m?\u001b[0m eta \u001b[36m-:--:--\u001b[0m\r\u001b[2K     \u001b[90m━━━━━━━━━━━━━━━━━━━━━━━━━━━━━━━━━━━━━━━━\u001b[0m \u001b[32m55.6/55.6 kB\u001b[0m \u001b[31m2.6 MB/s\u001b[0m eta \u001b[36m0:00:00\u001b[0m\n",
            "\u001b[?25h  Preparing metadata (setup.py) ... \u001b[?25l\u001b[?25hdone\n",
            "\u001b[2K   \u001b[90m━━━━━━━━━━━━━━━━━━━━━━━━━━━━━━━━━━━━━━━━\u001b[0m \u001b[32m4.7/4.7 MB\u001b[0m \u001b[31m64.1 MB/s\u001b[0m eta \u001b[36m0:00:00\u001b[0m\n",
            "\u001b[2K   \u001b[90m━━━━━━━━━━━━━━━━━━━━━━━━━━━━━━━━━━━━━━━━\u001b[0m \u001b[32m51.9/51.9 kB\u001b[0m \u001b[31m4.2 MB/s\u001b[0m eta \u001b[36m0:00:00\u001b[0m\n",
            "\u001b[2K   \u001b[90m━━━━━━━━━━━━━━━━━━━━━━━━━━━━━━━━━━━━━━━━\u001b[0m \u001b[32m332.3/332.3 kB\u001b[0m \u001b[31m31.7 MB/s\u001b[0m eta \u001b[36m0:00:00\u001b[0m\n",
            "\u001b[2K   \u001b[90m━━━━━━━━━━━━━━━━━━━━━━━━━━━━━━━━━━━━━━━━\u001b[0m \u001b[32m119.9/119.9 kB\u001b[0m \u001b[31m12.7 MB/s\u001b[0m eta \u001b[36m0:00:00\u001b[0m\n",
            "\u001b[2K   \u001b[90m━━━━━━━━━━━━━━━━━━━━━━━━━━━━━━━━━━━━━━━━\u001b[0m \u001b[32m809.1/809.1 kB\u001b[0m \u001b[31m51.5 MB/s\u001b[0m eta \u001b[36m0:00:00\u001b[0m\n",
            "\u001b[2K   \u001b[90m━━━━━━━━━━━━━━━━━━━━━━━━━━━━━━━━━━━━━━━━\u001b[0m \u001b[32m60.1/60.1 kB\u001b[0m \u001b[31m5.6 MB/s\u001b[0m eta \u001b[36m0:00:00\u001b[0m\n",
            "\u001b[2K   \u001b[90m━━━━━━━━━━━━━━━━━━━━━━━━━━━━━━━━━━━━━━━━\u001b[0m \u001b[32m753.1/753.1 kB\u001b[0m \u001b[31m40.5 MB/s\u001b[0m eta \u001b[36m0:00:00\u001b[0m\n",
            "\u001b[?25h  Building wheel for bibtexparser (setup.py) ... \u001b[?25l\u001b[?25hdone\n"
          ]
        }
      ],
      "source": [
        "!pip install -q qiskit qiskit-nature==0.7.2 pyscf matplotlib pandas qiskit-aer\n",
        "!pip install -q pymatgen\n"
      ]
    },
    {
      "cell_type": "code",
      "source": [
        "# --- Core imports for Qiskit Nature simulations ---\n",
        "\n",
        "from qiskit_nature.second_q.drivers import PySCFDriver, Molecule\n",
        "from qiskit_nature.second_q.problems import ElectronicStructureProblem\n",
        "from qiskit_nature.second_q.mappers import ParityMapper, JordanWignerMapper\n",
        "from qiskit_nature.second_q.hamiltonians import ElectronicEnergy\n",
        "from qiskit_nature.second_q.transformers import ActiveSpaceTransformer\n",
        "from qiskit.algorithms.minimum_eigensolvers import VQE\n",
        "from qiskit.algorithms.optimizers import COBYLA, SLSQP, SPSA\n",
        "from qiskit.circuit.library import TwoLocal, EfficientSU2\n",
        "from qiskit.primitives import Estimator\n",
        "\n",
        "def make_system(name):\n",
        "    if name == \"LiFePO4\":\n",
        "        charge, multiplicity = 0, 5\n",
        "        geom = [\n",
        "            (\"Fe\",(0.0,0.0,0.0)),\n",
        "            (\"O\",( 2.1,0.0,0.0)), (\"O\",(-2.1,0.0,0.0)),\n",
        "            (\"O\",(0.0, 2.1,0.0)), (\"O\",(0.0,-2.1,0.0)),\n",
        "            (\"O\",(0.0,0.0, 2.1)), (\"O\",(0.0,0.0,-2.1)),\n",
        "            (\"P\",(0.0,0.0,3.4)),\n",
        "            (\"O\",( 0.889, 0.889,4.289)),\n",
        "            (\"O\",( 0.889,-0.889,2.511)),\n",
        "            (\"O\",(-0.889, 0.889,2.511)),\n",
        "            (\"O\",(-0.889,-0.889,4.289)),\n",
        "            (\"Li\",(0.0,0.0,5.2)),\n",
        "        ]\n",
        "    elif name == \"NaFePO4\":\n",
        "        charge, multiplicity = 0, 5\n",
        "        geom = [\n",
        "            (\"Fe\",(0.0,0.0,0.0)),\n",
        "            (\"O\",( 2.1,0.0,0.0)), (\"O\",(-2.1,0.0,0.0)),\n",
        "            (\"O\",(0.0, 2.1,0.0)), (\"O\",(0.0,-2.1,0.0)),\n",
        "            (\"O\",(0.0,0.0, 2.1)), (\"O\",(0.0,0.0,-2.1)),\n",
        "            (\"P\",(0.0,0.0,3.4)),\n",
        "            (\"O\",( 0.889, 0.889,4.289)),\n",
        "            (\"O\",( 0.889,-0.889,2.511)),\n",
        "            (\"O\",(-0.889, 0.889,2.511)),\n",
        "            (\"O\",(-0.889,-0.889,4.289)),\n",
        "            (\"Na\",(0.0,0.0,5.2)),\n",
        "        ]\n",
        "    elif name == \"MgFePO4\":\n",
        "        charge, multiplicity = 0, 6\n",
        "        geom = [\n",
        "            (\"Fe\",(0.0,0.0,0.0)),\n",
        "            (\"O\",( 2.1,0.0,0.0)), (\"O\",(-2.1,0.0,0.0)),\n",
        "            (\"O\",(0.0, 2.1,0.0)), (\"O\",(0.0,-2.1,0.0)),\n",
        "            (\"O\",(0.0,0.0, 2.1)), (\"O\",(0.0,0.0,-2.1)),\n",
        "            (\"P\",(0.0,0.0,3.4)),\n",
        "            (\"O\",( 0.889, 0.889,4.289)),\n",
        "            (\"O\",( 0.889,-0.889,2.511)),\n",
        "            (\"O\",(-0.889, 0.889,2.511)),\n",
        "            (\"O\",(-0.889,-0.889,4.289)),\n",
        "            (\"Mg\",(0.0,0.0,5.2)),\n",
        "        ]\n",
        "    else:\n",
        "        raise ValueError(\"Unknown name\")\n",
        "    mol = Molecule(geometry=geom, charge=charge, multiplicity=multiplicity)\n",
        "    return mol\n"
      ],
      "metadata": {
        "id": "esWvLcK2dy8c"
      },
      "execution_count": null,
      "outputs": []
    }
  ]
}